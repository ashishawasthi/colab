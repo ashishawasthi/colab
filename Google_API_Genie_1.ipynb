{
  "nbformat": 4,
  "nbformat_minor": 0,
  "metadata": {
    "colab": {
      "provenance": [],
      "authorship_tag": "ABX9TyM0RVfk9gZuta9p5c522nTP",
      "include_colab_link": true
    },
    "kernelspec": {
      "name": "python3",
      "display_name": "Python 3"
    },
    "language_info": {
      "name": "python"
    }
  },
  "cells": [
    {
      "cell_type": "markdown",
      "metadata": {
        "id": "view-in-github",
        "colab_type": "text"
      },
      "source": [
        "<a href=\"https://colab.research.google.com/github/ashishawasthi/colab/blob/master/Google_API_Genie_1.ipynb\" target=\"_parent\"><img src=\"https://colab.research.google.com/assets/colab-badge.svg\" alt=\"Open In Colab\"/></a>"
      ]
    },
    {
      "cell_type": "code",
      "execution_count": null,
      "metadata": {
        "id": "MKAe9RL2PyU5"
      },
      "outputs": [],
      "source": [
        "!pip install -q google-cloud-aiplatform"
      ]
    },
    {
      "cell_type": "code",
      "source": [
        "import vertexai\n",
        "from vertexai.preview.language_models import ChatModel, InputOutputTextPair"
      ],
      "metadata": {
        "id": "3_0TDyXTQYus"
      },
      "execution_count": 20,
      "outputs": []
    },
    {
      "cell_type": "markdown",
      "source": [
        "### Google account and project to use"
      ],
      "metadata": {
        "id": "88rTHY6aUdAc"
      }
    },
    {
      "cell_type": "code",
      "source": [
        "from google.colab import auth as google_auth\n",
        "google_auth.authenticate_user()\n",
        "project_id = \"generativai\" # Change to your Google cloud project\n",
        "vertexai.init(project=project_id)"
      ],
      "metadata": {
        "id": "vbcGyHDyUQTx"
      },
      "execution_count": 21,
      "outputs": []
    },
    {
      "cell_type": "markdown",
      "source": [
        "### Prompts and Input"
      ],
      "metadata": {
        "id": "r0c-f7fnWE0-"
      }
    },
    {
      "cell_type": "code",
      "source": [
        "context_1 = '''As a software product owner, write project requirement with clarification questions to be asked, for the given business problem statement. Output must be only JSON and nothing else before or after the JSON.\n",
        "\n",
        "Departments in the bank are:\n",
        "- Core banking (account and transaction management system) \n",
        "- Credit card & loans system \n",
        "- Digital Banking (Internet Banking, Mobile Banking and P2P payment app) \n",
        "- Marketing and analytics\n",
        "\n",
        "Write detailed project requirement in a JSON object with description and array of clarifications with one question in each clarification. Please use the following JSON format for the project requirement:\n",
        "{\"description\": \"Requirement description\",\"clarifications\": [{\"question\": \"Requirement question\"}]}'''\n",
        "\n",
        "example_input_1 = '''Business team wants to manage marketing rules'''\n",
        "\n",
        "example_output_1 = '''{\n",
        "    \"description\": \"A self-service marketing rule-engine for business users to develop targeted marketing rules using AI model recommendations and customer data, including product-propensities, demographics, behavior, service usage and transaction history. The platform ensures minimal spam and delivers messages via inbound and outbound channels.\",\n",
        "    \"department\": \"Marketing and analytics\",\n",
        "    \"clarifications\": [\n",
        "        {\n",
        "            \"question\": \"Which inbound and outbound channels should be supported by the platform?\"\n",
        "        },\n",
        "        {\n",
        "            \"question\": \"How should the platform ensure minimal spam and comply with marketing regulations?\"\n",
        "        },\n",
        "        {\n",
        "            \"question\": \"What metrics should be used to determine the success of the platform?\"\n",
        "        },\n",
        "        {\n",
        "            \"question\": \"What are the decisions, for which AI models should be used?\"\n",
        "        }\n",
        "    ]\n",
        "}'''\n",
        "user_input = '''Business team needs a system for ATM cash replenishment'''"
      ],
      "metadata": {
        "id": "e_vOuSm1Upye"
      },
      "execution_count": 22,
      "outputs": []
    },
    {
      "cell_type": "markdown",
      "source": [
        "### Tuning Parameters"
      ],
      "metadata": {
        "id": "VHoJ3_RVV1Ap"
      }
    },
    {
      "cell_type": "code",
      "source": [
        "model_name = \"chat-bison@001\"\n",
        "parameters = {\n",
        "  \"temperature\": 0.2,\n",
        "  \"max_output_tokens\": 1024,\n",
        "  \"top_p\": 0.8,\n",
        "  \"top_k\": 40,\n",
        "}"
      ],
      "metadata": {
        "id": "_ArOpLiPTEfb"
      },
      "execution_count": 23,
      "outputs": []
    },
    {
      "cell_type": "markdown",
      "source": [
        "### Call Google's Chat API "
      ],
      "metadata": {
        "id": "F5uAsuJOWMQB"
      }
    },
    {
      "cell_type": "code",
      "source": [
        "chat_model = ChatModel.from_pretrained(model_name)\n",
        "chat = chat_model.start_chat(context=context_1,\n",
        "  examples=[\n",
        "    InputOutputTextPair(\n",
        "      input_text=example_input_1,\n",
        "      output_text=example_output_1\n",
        "    )\n",
        "  ]\n",
        ")\n",
        "response=chat.send_message(user_input,**parameters)\n",
        "print(response.text)"
      ],
      "metadata": {
        "colab": {
          "base_uri": "https://localhost:8080/"
        },
        "id": "jpAU7-vtQXa4",
        "outputId": "fa7d5980-c65c-445d-d250-7ccf5b692f5a"
      },
      "execution_count": 24,
      "outputs": [
        {
          "output_type": "stream",
          "name": "stdout",
          "text": [
            "{\n",
            "    \"description\": \"A system for ATM cash replenishment that automates the process of loading cash into ATMs. The system should be able to track the inventory of cash at each ATM, generate reports on cash usage, and notify the appropriate personnel when cash levels are low.\",\n",
            "    \"department\": \"Core banking\",\n",
            "    \"clarifications\": [\n",
            "        {\n",
            "            \"question\": \"How should the system track the inventory of cash at each ATM?\"\n",
            "        },\n",
            "        {\n",
            "            \"question\": What reports should the system generate?\"\n",
            "        },\n",
            "        {\n",
            "            \"question\": How should the system notify the appropriate personnel when cash levels are low?\"\n",
            "        }\n",
            "    ]\n",
            "}\n",
            "\n",
            "Here are some additional details about the system:\n",
            "\n",
            "* The system should be able to track the inventory of cash at each ATM in real time.\n",
            "* The system should be able to generate reports on cash usage by ATM, by customer, and by type of transaction.\n",
            "* The system should be able to notify the appropriate personnel when cash levels at an ATM fall below a certain threshold.\n",
            "* The system should be able to integrate with the bank's existing ATM network and cash management system.\n",
            "* The system should be easy to use and maintain.\n",
            "* The system should be secure and compliant with all applicable regulations.\n"
          ]
        }
      ]
    }
  ]
}