{
  "nbformat": 4,
  "nbformat_minor": 0,
  "metadata": {
    "colab": {
      "provenance": [],
      "authorship_tag": "ABX9TyOVTDRHdhsiE0JK/AIYB7QC",
      "include_colab_link": true
    },
    "kernelspec": {
      "name": "python3",
      "display_name": "Python 3"
    },
    "language_info": {
      "name": "python"
    }
  },
  "cells": [
    {
      "cell_type": "markdown",
      "metadata": {
        "id": "view-in-github",
        "colab_type": "text"
      },
      "source": [
        "<a href=\"https://colab.research.google.com/github/ashishawasthi/colab/blob/master/HuggingFace_from_SageMaker.ipynb\" target=\"_parent\"><img src=\"https://colab.research.google.com/assets/colab-badge.svg\" alt=\"Open In Colab\"/></a>"
      ]
    },
    {
      "cell_type": "code",
      "execution_count": null,
      "metadata": {
        "id": "Dbp7GfnFpID3"
      },
      "outputs": [],
      "source": [
        "import boto3\n",
        "import sagemaker\n",
        "from sagemaker.huggingface import HuggingFace\n",
        "\n",
        "region = boto3.Session().region_name\n",
        "py_version = 'py38'\n",
        "transformers_version = '4.11.3'\n",
        "pytorch_version = '1.10.0'\n",
        "\n",
        "repository_uri = f\"763104351884.dkr.ecr.{region}.amazonaws.com/huggingface-{py_version}-transformers{transformers_version}-torch{pytorch_version}\"\n",
        "\n",
        "huggingface_estimator = HuggingFace(\n",
        "    entry_point=\"train.py\",\n",
        "    source_dir=\"./scripts\",\n",
        "    role=sagemaker.get_execution_role(),\n",
        "    instance_type=\"ml.p3.2xlarge\",\n",
        "    instance_count=1,\n",
        "    image_uri=repository_uri,  # Pass the constructed image_uri\n",
        "    hyperparameters={\n",
        "        \"epochs\": 3,\n",
        "        \"train_batch_size\": 32,\n",
        "        \"model_name\": \"distilbert-base-uncased\",\n",
        "    },\n",
        ")"
      ]
    }
  ]
}