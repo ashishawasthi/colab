{
  "nbformat": 4,
  "nbformat_minor": 0,
  "metadata": {
    "colab": {
      "provenance": [],
      "authorship_tag": "ABX9TyO2UlN6Tg/JNYdPHXUeG3lx",
      "include_colab_link": true
    },
    "kernelspec": {
      "name": "python3",
      "display_name": "Python 3"
    },
    "language_info": {
      "name": "python"
    }
  },
  "cells": [
    {
      "cell_type": "markdown",
      "metadata": {
        "id": "view-in-github",
        "colab_type": "text"
      },
      "source": [
        "<a href=\"https://colab.research.google.com/github/ashishawasthi/colab/blob/master/parse_news_to_text.ipynb\" target=\"_parent\"><img src=\"https://colab.research.google.com/assets/colab-badge.svg\" alt=\"Open In Colab\"/></a>"
      ]
    },
    {
      "cell_type": "code",
      "execution_count": 1,
      "metadata": {
        "colab": {
          "base_uri": "https://localhost:8080/"
        },
        "id": "e_bTes0VSWGH",
        "outputId": "c666aede-8047-44bc-fa52-0572fef70e8a"
      },
      "outputs": [
        {
          "output_type": "stream",
          "name": "stdout",
          "text": [
            "Looking in indexes: https://pypi.org/simple, https://us-python.pkg.dev/colab-wheels/public/simple/\n",
            "Requirement already satisfied: BeautifulSoup4 in /usr/local/lib/python3.10/dist-packages (4.11.2)\n",
            "Requirement already satisfied: soupsieve>1.2 in /usr/local/lib/python3.10/dist-packages (from BeautifulSoup4) (2.4.1)\n"
          ]
        }
      ],
      "source": [
        "!pip install BeautifulSoup4"
      ]
    },
    {
      "cell_type": "code",
      "source": [],
      "metadata": {
        "id": "dIzWpIPSS2F-"
      },
      "execution_count": null,
      "outputs": []
    },
    {
      "cell_type": "code",
      "source": [
        "from bs4 import BeautifulSoup\n",
        "import xml.etree.ElementTree as ET"
      ],
      "metadata": {
        "id": "2tMXjrWKSsiG"
      },
      "execution_count": 2,
      "outputs": []
    },
    {
      "cell_type": "code",
      "source": [
        "#with open('sa_story_ttn_synopsis_20230118025900-20230118075900.xml', 'r') as file:\n",
        " #   xml_string = file.read()"
      ],
      "metadata": {
        "id": "Lz3GKANRSiap"
      },
      "execution_count": null,
      "outputs": []
    },
    {
      "cell_type": "code",
      "source": [
        "xml_string = '''<?xml version='1.0' encoding='UTF-8'?><document><doc_id>sa_story_ttn_synopsis_20230118025900</doc_id><headline>StreetAccount Market Synopsis as of 03:00 ET</headline><publish_time>2023-01-18T07:59:00Z</publish_time><story_date_time>2023-01-18T07:59:00Z</story_date_time><last_update_time_stamp>2023-01-18T07:59:00Z</last_update_time_stamp><report_id>ttn_synopsis_20230118025900</report_id><factset_entity_ids/><all_factset_entity_ids/><ticker_regions><ticker_region></ticker_region></ticker_regions><all_ticker_regions><all_ticker_region></all_ticker_region></all_ticker_regions><product>SA</product><fds_language>EN</fds_language><fds_countries><fds_country></fds_country></fds_countries><fds_subjects><fds_subject>HOTNW</fds_subject><fds_subject>NS_MS_GEN</fds_subject></fds_subjects><reference_story_ids><reference_story_id></reference_story_id></reference_story_ids><reference_story_times/><reference_story_headlines><reference_story_headline></reference_story_headline></reference_story_headlines><sa_categories><sa_category>SA_TTN_SYNOPSIS</sa_category></sa_categories><story_body><![CDATA[<!DOCTYPE html><html><body><html><head><meta http-equiv=\"Content-Type\" content=\"text/html; charset=utf-8\"></head><body style='font-size:12px'><table cellpadding='0' cellspacing='0' border='0'><tr><td> </td></tr><tr><td><table style='background-color: white; border: #C8C8C8 1px solid; border-top: none; border-spacing: 0; line-height: 18px; font-family: Arial, Helvetica, sans-serif; font-size: 12px; width: 100%;' cellpadding='0' cellspacing='0'><tr style='background-color: #F0F0F0; font-weight: bold; font-size: 12px; font-family: Arial, Helvetica, sans-serif;'><td style='padding: 10px; border-bottom: #C8C8C8 1px solid; border-top: #C8C8C8 1px solid;'>Synopsis (last modified 02:03 ET on 18-Jan-23)</td></tr><tr><td style='padding:16px;'><div style='font-weight: bold; color: #336699;'>Overnight Market Synopsis:</div><div></div><div style='font-weight: bold; color: #336699;'>US equities mostly lower: Dow (1.14%), S&P 500 (0.21%), Nasdaq +0.14%, Russell 2000 (0.16%)</div><div><ul>\n",
        "<li><b>US equities</b> mostly lower in fairly quiet, rangebound Tuesday trading. Downside limited though major averages still ended just off session low. Stocks didn't do much after capping off another strong weekly performance on Friday. Big tech, P&C insurers, multis, airlines, pharma, banks, building products, packaging, telecom some of the weaker areas. EVs, payments and fintech, QSRs, cruiselines, semis, beverages, REITs, rails, HPCs fared better. IBs mixed on today's earnings reports. <b>Treasuries </b>mixed with curve steepening (some help from ECB speculation). <b>Dollar </b>better vs euro but weaker vs yen and sterling. <b>Gold</b> ended down 0.6% after gaining nearly 3% last week. <b>Bitcoin futures</b> up 9.8%. <b>WTI crude</b> settled up 0.4% in fairly choppy trading for eighth-straight gain.</li>\n",
        "<li>Pretty quiet day in the markets at the start of a busier week for Q4 earnings. Not a lot of catalysts in play as investors balanced recent bullish/bearish narratives as the S&P hovered just below the 4000 mark for most of the session. Still plenty of concerns recent move nothing more than a <b>bear market bounce</b> given higher-for-longer and pivot pushback messaging from the Fed, sticky services inflation, worries about a Fed policy mistake (hard landing) via its focus on lagging indicators, QT, M2 growth collapse, debt ceiling risk, TARA>TINA, continued pickup in softer demand messaging from companies and the fairly widespread view that earnings estimates still have a lot of room (~10%+) to come down. However, <b>recent upside</b> chalked up to disinflation traction, expected slowdown in Fed rate hikes, easing financial conditions (rates, dollar), pickup in soft landing hopes, lower Q4 earnings bar, easing supply chain constraints, faster China reopening, heightened China policy support and warmer weather in Europe (no energy crisis).</li>\n",
        "<li><b>NY Fed Empire survey showed a big headline contraction</b>, though prices paid also decelerated sharply. <b>Richmond Fed's Barkin</b> the latest to hit on hawkish talking points, saying Fed must be convincingly back to target to pause. Bloomberg reported <b>ECB starting to consider slowing hikes to 25bp in March</b>. Washington Post reported <b>Republicans working on a plan to prioritize payments if debt ceiling not lifted</b>. WSJ discussed how <b>companies are pulling back on price increases</b>, another sign inflation pressure may be easing. BofA FMS revealed a <b>collapse in allocation to US equities</b> to levels not seen since 2005. <b>China Q4 GDP and December activity</b> <b>data</b> broadly beat depressed expectations. <b>German economic sentiment</b> (ZEW) surprised to the upside again. <b>No press leaks about any BoJ surprises</b> tomorrow and WSJ said central bank wants to give recent YCC tweak time. <b><br /></b></li>\n",
        "<li>This week brings <b>Q4 earnings reports</b> from 26 S&P 500 companies.<b> GS</b> missed with focus on higher provisions and lower asset markets, though FICC beat. <b>MS</b> beat with help from better WM, though trading light. <b>TRV</b> negatively preannounced on higher cat losses. <b>CFG</b> latest bank to guide NII below. <b>SBNY</b> raised its dividend. Reuters reported <b>MSFT</b> weighing 5% headcount cut, according to Sky News report. WSJ reported activist Ryan Cohen building stake in <b>BABA</b> and pushing for more buybacks. <b>RBLX</b> December metrics well-received. Bloomberg reported <b>EMR</b> offered to acquire <b>NATI</b> for $7B. <b>WHR~</b> to combine its European major domestic appliance business with Arcelik. <b>KMX</b> higher on activist investor speculation.<b><br /></b></li>\n",
        "</ul></div><div style='font-weight: bold; color: #336699;'>European futures point to a mixed open: Euro Stoxx 50 +0.3%, FTSE unch, DAX +0.3%, CAC unch</div><div><ul type=\"disc\">\n",
        "<li><b>European equity futures point to a mixed start</b>, after finishing mostly higher in the past two sessions. Follows mostly higher performance in Asia. Nikkei outperformed following BOJ decision. South Korea the only Asia bourse with red ink. Taiwan closed for a holiday. <b>US futures also higher</b>, with S&P up 0.1%, after most US bourses closed lower on Tuesday. US <b>dollar higher</b> although much of that appears to be against the yen, which weakened more than 2% on BOJ news. JGB yields lower with key 10Y dipping to 0.41%, <b>US Treasury yields higher at the short end</b>, lower at the long. <b>Crude </b>higher again on China economy optimism. Gold down on dollar strength, other commodities mixed.</li>\n",
        "<li><b>Early focus on BoJ policy decision</b>. Left <b>policy settings unchanged and kept YCC tolerance range at 50 bp</b>. While expectations were for no change, meeting was considered 'live' and there remain expectations of a policy shift in coming meetings. <b>Outlook Report showed minor upward revisions to inflation forecasts</b> as foreshadowed in recent press reports. Macro data focus in Europe on <b>UK CPI data, which met expectations at 10.5% y/y versus prior 10.7%</b> after acceleration in wage growth reported Tuesday. Eurozone final CPI due later.</li>\n",
        "<li><b>Some optimism surrounding growth outlook after IMF upgrades global growth forecast</b> with better H2 anticipated and recovery seen into 2024. <b>German Chancellor Scholz expects Germany to avoid recession</b>. More upbeat tone comes amid <b>speculation via a Bloomberg report that ECB could adjust pace of tightening to rate increase in increments of 25-bps</b> from March. <b>Policy conjecture supportive for bond and equity markets</b>. However, stickier inflation, thoughts that rates could remain higher for longer and expectations for earnings revisions potential headwinds.</li>\n",
        "<li><b>China Covid situation continues to improve</b>. Vice Premier Liu He declared Covid wave has peaked, and normalization is occurring faster than government expected. In other developments, <b>Reuters Tankan showed Japan manufacturer sentiment turned negative for first time since Jan-2021</b>, reflecting slowdown in global economy and cost pressures. <b>Japan core machinery orders shrank more than expected</b>, prompting government to downgrade assessment to \"stalling\" from recovering previously.</li>\n",
        "<li><b>On the corporate front</b>, BARN.SW Q1 sales missed. EQT.SS FY2022 net income bet, EBITDA in line, AuM higher, management feed beat. CFR.SW Q3 prelim revenue missed. ASM.NA Q4 prelim revenue beat guidance, orders also up y/y. NOVN.SW received US FDA NDA Supplemental 37 approval for EXJADE (DEFERASIROX). BAS.GR prelim FY 2022 ner profit, EBITDA, Revenue all missed. CON.GR prelim Q4 revenue beat, FC missed, EBIT margin 4.8%, FY 2022 FC expected (&euro;200M) vs prior guidance of &euro;600-800M. TKWY.NA Q4 orders missed, continues to explore Grubhub sale, reiterated guidance.</li>\n",
        "</ul></div><div style='font-weight: bold; color: #336699;'>Notable Gainers:</div><div><ul>\n",
        "<li>+11.8% <b>RBLX</b> (Roblox): Reported Dec-22 key metrics, including DAUs up 18% y/y, hours engaged up 21% y/y also said revenue reflects 1-6% decline y/y, though bookings up 17-20% y/y.</li>\n",
        "<li>+10.8% <b>NATI</b> (National Instruments): EMR confirmed reports it submitted a proposal to acquire NATI for $53/sh in a deal valued at 7.6B; represents a 13% premium to Friday's close; said it made the offer in November as an improvement over an initial $48/sh offer made in May 2022.</li>\n",
        "<li>+5.9% <b>MS</b> (Morgan Stanley): Q4 earnings and revenue beat; Global Wealth Management a bright spot; NII ahead of consensus and AUM fees strong; Institutional saw drag from IB amid lower issuance and equity trading revenues lower; expenses higher than consensus; analysts argued report cleared a lowered bar.</li>\n",
        "<li>+3.8% <b>KMX</b> (CarMax): Activist Insight reported that an activist investor could be targeting the company.</li>\n",
        "<li>+3.4% <b>CHD</b> (Church & Dwight): Upgraded to overweight from equal weight at Morgan Stanley citing expectations for a sharp fundamental turn in 2023 amid continued momentum in the core business; upgraded to outperform from neutral at Credit Suisse on improving trends, valuation, and recession resiliency.</li>\n",
        "<li>+2.4% <b>SBNY</b> (Signature Bank): Q4 revenue better with NII and fee income both ahead of consensus; EPS missed amid higher expenses and provision (though analysts expectations had been coming down); deposits hit by declining digital-asset balances, but not as bad as feared; raised quarterly dividend.</li>\n",
        "</ul></div><div style='font-weight: bold; color: #336699;'>Notable Decliners:</div><div><ul>\n",
        "<li>-6.8% <b>EMR</b> (Emerson Electric): Confirmed reports it submitted a proposal to acquire NATI for $53/sh in a deal valued at 7.6B; represents a 13% premium to Friday's close; said it made the offer in November as an improvement over an initial $48/sh offer made in May 2022.</li>\n",
        "<li>-6.4% <b>GS</b> (Goldman Sachs): Q4 revenue and EPS missed; biggest earnings miss (~40%) since 2011; takeaways focused on higher provisions, weaker asset marks and higher expenses; capital markets also weaker than expected; FICC trading jumped a better-than-expected 44% y/y.</li>\n",
        "<li>-6.3% <b>MHK</b> (Mohawk Industries): Guided Q4 EPS ~12% below the Street; noted global residential flooring business has softened more than anticipated (particularly in NA); said it has increased temporary plant shutdowns, which has further compressed margins.</li>\n",
        "<li>-4.7% <b>SWAV</b> (Shockwave Medical): Announced agreement to acquire NVCN for upfront payment of $27.25 a share in cash, or an enterprise value of $100M; deal represents a 27% premium to Friday's close, expected to close 1H-23.</li>\n",
        "<li>-4.6% <b>TRV</b> (Travelers Cos.): Preliminary Q4 core EPS below consensus; management flagged steep cat losses from the late-December winter storm; highlighted strength in commercial businesses though said Personal Insurance continues to be pressured by elevated cost trends.</li>\n",
        "<li>-1.7% <b>CAKE</b> (Cheesecake Factory): Downgraded to neutral from buy at Citi; cited valuation and noted less confident in company's ability to grow store base while expanding/sustaining margins.</li>\n",
        "<li>-1.3% <b>SNAP</b> (Snap): Downgraded to market perform from market outperform at JPM Securities; said time spent on Snap platform is declining, which they attributed to increased competition from Reels and YouTube Shorts; also noted that with ad tools still developing, brand spend growth will be limited given impression headwinds.</li>\n",
        "</ul></div></td></tr></table></td></tr></table></body></html></body></html>]]></story_body><schema_version>1</schema_version></document>'''"
      ],
      "metadata": {
        "id": "A9mco74nS-a-"
      },
      "execution_count": 3,
      "outputs": []
    },
    {
      "cell_type": "code",
      "source": [
        "root = ET.fromstring(xml_string)\n",
        "story_body_element = root.find('story_body')"
      ],
      "metadata": {
        "id": "jo-oUyOsSiMt"
      },
      "execution_count": 4,
      "outputs": []
    },
    {
      "cell_type": "markdown",
      "source": [
        "Read HTML from the story_body element, if it exists"
      ],
      "metadata": {
        "id": "gPoWI2LhSluF"
      }
    },
    {
      "cell_type": "code",
      "source": [
        "if story_body_element is not None:\n",
        "    html_string = story_body_element.text\n",
        "    soup = BeautifulSoup(html_string, 'html.parser')\n",
        "    text = soup.get_text()\n",
        "    print(text)\n",
        "else:\n",
        "    print(\"story_body element not found.\")"
      ],
      "metadata": {
        "colab": {
          "base_uri": "https://localhost:8080/"
        },
        "id": "7tPN4tGHSh3z",
        "outputId": "ef0e5c1a-809a-4664-9c61-867182daaec1"
      },
      "execution_count": 5,
      "outputs": [
        {
          "output_type": "stream",
          "name": "stdout",
          "text": [
            " Synopsis (last modified 02:03 ET on 18-Jan-23)Overnight Market Synopsis:US equities mostly lower: Dow (1.14%), S&P 500 (0.21%), Nasdaq +0.14%, Russell 2000 (0.16%)\n",
            "US equities mostly lower in fairly quiet, rangebound Tuesday trading. Downside limited though major averages still ended just off session low. Stocks didn't do much after capping off another strong weekly performance on Friday. Big tech, P&C insurers, multis, airlines, pharma, banks, building products, packaging, telecom some of the weaker areas. EVs, payments and fintech, QSRs, cruiselines, semis, beverages, REITs, rails, HPCs fared better. IBs mixed on today's earnings reports. Treasuries mixed with curve steepening (some help from ECB speculation). Dollar better vs euro but weaker vs yen and sterling. Gold ended down 0.6% after gaining nearly 3% last week. Bitcoin futures up 9.8%. WTI crude settled up 0.4% in fairly choppy trading for eighth-straight gain.\n",
            "Pretty quiet day in the markets at the start of a busier week for Q4 earnings. Not a lot of catalysts in play as investors balanced recent bullish/bearish narratives as the S&P hovered just below the 4000 mark for most of the session. Still plenty of concerns recent move nothing more than a bear market bounce given higher-for-longer and pivot pushback messaging from the Fed, sticky services inflation, worries about a Fed policy mistake (hard landing) via its focus on lagging indicators, QT, M2 growth collapse, debt ceiling risk, TARA>TINA, continued pickup in softer demand messaging from companies and the fairly widespread view that earnings estimates still have a lot of room (~10%+) to come down. However, recent upside chalked up to disinflation traction, expected slowdown in Fed rate hikes, easing financial conditions (rates, dollar), pickup in soft landing hopes, lower Q4 earnings bar, easing supply chain constraints, faster China reopening, heightened China policy support and warmer weather in Europe (no energy crisis).\n",
            "NY Fed Empire survey showed a big headline contraction, though prices paid also decelerated sharply. Richmond Fed's Barkin the latest to hit on hawkish talking points, saying Fed must be convincingly back to target to pause. Bloomberg reported ECB starting to consider slowing hikes to 25bp in March. Washington Post reported Republicans working on a plan to prioritize payments if debt ceiling not lifted. WSJ discussed how companies are pulling back on price increases, another sign inflation pressure may be easing. BofA FMS revealed a collapse in allocation to US equities to levels not seen since 2005. China Q4 GDP and December activity data broadly beat depressed expectations. German economic sentiment (ZEW) surprised to the upside again. No press leaks about any BoJ surprises tomorrow and WSJ said central bank wants to give recent YCC tweak time. \n",
            "This week brings Q4 earnings reports from 26 S&P 500 companies. GS missed with focus on higher provisions and lower asset markets, though FICC beat. MS beat with help from better WM, though trading light. TRV negatively preannounced on higher cat losses. CFG latest bank to guide NII below. SBNY raised its dividend. Reuters reported MSFT weighing 5% headcount cut, according to Sky News report. WSJ reported activist Ryan Cohen building stake in BABA and pushing for more buybacks. RBLX December metrics well-received. Bloomberg reported EMR offered to acquire NATI for $7B. WHR~ to combine its European major domestic appliance business with Arcelik. KMX higher on activist investor speculation.\n",
            "European futures point to a mixed open: Euro Stoxx 50 +0.3%, FTSE unch, DAX +0.3%, CAC unch\n",
            "European equity futures point to a mixed start, after finishing mostly higher in the past two sessions. Follows mostly higher performance in Asia. Nikkei outperformed following BOJ decision. South Korea the only Asia bourse with red ink. Taiwan closed for a holiday. US futures also higher, with S&P up 0.1%, after most US bourses closed lower on Tuesday. US dollar higher although much of that appears to be against the yen, which weakened more than 2% on BOJ news. JGB yields lower with key 10Y dipping to 0.41%, US Treasury yields higher at the short end, lower at the long. Crude higher again on China economy optimism. Gold down on dollar strength, other commodities mixed.\n",
            "Early focus on BoJ policy decision. Left policy settings unchanged and kept YCC tolerance range at 50 bp. While expectations were for no change, meeting was considered 'live' and there remain expectations of a policy shift in coming meetings. Outlook Report showed minor upward revisions to inflation forecasts as foreshadowed in recent press reports. Macro data focus in Europe on UK CPI data, which met expectations at 10.5% y/y versus prior 10.7% after acceleration in wage growth reported Tuesday. Eurozone final CPI due later.\n",
            "Some optimism surrounding growth outlook after IMF upgrades global growth forecast with better H2 anticipated and recovery seen into 2024. German Chancellor Scholz expects Germany to avoid recession. More upbeat tone comes amid speculation via a Bloomberg report that ECB could adjust pace of tightening to rate increase in increments of 25-bps from March. Policy conjecture supportive for bond and equity markets. However, stickier inflation, thoughts that rates could remain higher for longer and expectations for earnings revisions potential headwinds.\n",
            "China Covid situation continues to improve. Vice Premier Liu He declared Covid wave has peaked, and normalization is occurring faster than government expected. In other developments, Reuters Tankan showed Japan manufacturer sentiment turned negative for first time since Jan-2021, reflecting slowdown in global economy and cost pressures. Japan core machinery orders shrank more than expected, prompting government to downgrade assessment to \"stalling\" from recovering previously.\n",
            "On the corporate front, BARN.SW Q1 sales missed. EQT.SS FY2022 net income bet, EBITDA in line, AuM higher, management feed beat. CFR.SW Q3 prelim revenue missed. ASM.NA Q4 prelim revenue beat guidance, orders also up y/y. NOVN.SW received US FDA NDA Supplemental 37 approval for EXJADE (DEFERASIROX). BAS.GR prelim FY 2022 ner profit, EBITDA, Revenue all missed. CON.GR prelim Q4 revenue beat, FC missed, EBIT margin 4.8%, FY 2022 FC expected (€200M) vs prior guidance of €600-800M. TKWY.NA Q4 orders missed, continues to explore Grubhub sale, reiterated guidance.\n",
            "Notable Gainers:\n",
            "+11.8% RBLX (Roblox): Reported Dec-22 key metrics, including DAUs up 18% y/y, hours engaged up 21% y/y also said revenue reflects 1-6% decline y/y, though bookings up 17-20% y/y.\n",
            "+10.8% NATI (National Instruments): EMR confirmed reports it submitted a proposal to acquire NATI for $53/sh in a deal valued at 7.6B; represents a 13% premium to Friday's close; said it made the offer in November as an improvement over an initial $48/sh offer made in May 2022.\n",
            "+5.9% MS (Morgan Stanley): Q4 earnings and revenue beat; Global Wealth Management a bright spot; NII ahead of consensus and AUM fees strong; Institutional saw drag from IB amid lower issuance and equity trading revenues lower; expenses higher than consensus; analysts argued report cleared a lowered bar.\n",
            "+3.8% KMX (CarMax): Activist Insight reported that an activist investor could be targeting the company.\n",
            "+3.4% CHD (Church & Dwight): Upgraded to overweight from equal weight at Morgan Stanley citing expectations for a sharp fundamental turn in 2023 amid continued momentum in the core business; upgraded to outperform from neutral at Credit Suisse on improving trends, valuation, and recession resiliency.\n",
            "+2.4% SBNY (Signature Bank): Q4 revenue better with NII and fee income both ahead of consensus; EPS missed amid higher expenses and provision (though analysts expectations had been coming down); deposits hit by declining digital-asset balances, but not as bad as feared; raised quarterly dividend.\n",
            "Notable Decliners:\n",
            "-6.8% EMR (Emerson Electric): Confirmed reports it submitted a proposal to acquire NATI for $53/sh in a deal valued at 7.6B; represents a 13% premium to Friday's close; said it made the offer in November as an improvement over an initial $48/sh offer made in May 2022.\n",
            "-6.4% GS (Goldman Sachs): Q4 revenue and EPS missed; biggest earnings miss (~40%) since 2011; takeaways focused on higher provisions, weaker asset marks and higher expenses; capital markets also weaker than expected; FICC trading jumped a better-than-expected 44% y/y.\n",
            "-6.3% MHK (Mohawk Industries): Guided Q4 EPS ~12% below the Street; noted global residential flooring business has softened more than anticipated (particularly in NA); said it has increased temporary plant shutdowns, which has further compressed margins.\n",
            "-4.7% SWAV (Shockwave Medical): Announced agreement to acquire NVCN for upfront payment of $27.25 a share in cash, or an enterprise value of $100M; deal represents a 27% premium to Friday's close, expected to close 1H-23.\n",
            "-4.6% TRV (Travelers Cos.): Preliminary Q4 core EPS below consensus; management flagged steep cat losses from the late-December winter storm; highlighted strength in commercial businesses though said Personal Insurance continues to be pressured by elevated cost trends.\n",
            "-1.7% CAKE (Cheesecake Factory): Downgraded to neutral from buy at Citi; cited valuation and noted less confident in company's ability to grow store base while expanding/sustaining margins.\n",
            "-1.3% SNAP (Snap): Downgraded to market perform from market outperform at JPM Securities; said time spent on Snap platform is declining, which they attributed to increased competition from Reels and YouTube Shorts; also noted that with ad tools still developing, brand spend growth will be limited given impression headwinds.\n",
            "\n"
          ]
        }
      ]
    }
  ]
}