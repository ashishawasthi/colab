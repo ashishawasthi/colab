{
  "nbformat": 4,
  "nbformat_minor": 0,
  "metadata": {
    "kernelspec": {
      "display_name": "Python 3",
      "language": "python",
      "name": "python3"
    },
    "language_info": {
      "codemirror_mode": {
        "name": "ipython",
        "version": 3
      },
      "file_extension": ".py",
      "mimetype": "text/x-python",
      "name": "python",
      "nbconvert_exporter": "python",
      "pygments_lexer": "ipython3",
      "version": "3.7.6"
    },
    "colab": {
      "name": "fashion_mnist_feedforward.ipynb",
      "provenance": [],
      "include_colab_link": true
    }
  },
  "cells": [
    {
      "cell_type": "markdown",
      "metadata": {
        "id": "view-in-github",
        "colab_type": "text"
      },
      "source": [
        "<a href=\"https://colab.research.google.com/github/ashishawasthi/colab/blob/master/basics/fashion_mnist_conv.ipynb\" target=\"_parent\"><img src=\"https://colab.research.google.com/assets/colab-badge.svg\" alt=\"Open In Colab\"/></a>"
      ]
    },
    {
      "cell_type": "code",
      "metadata": {
        "id": "fNN1pyZ4iOg2",
        "colab_type": "code",
        "outputId": "0512d547-eeab-468d-d347-831536749c7f",
        "colab": {
          "base_uri": "https://localhost:8080/",
          "height": 34
        }
      },
      "source": [
        "try:\n",
        "  # %tensorflow_version only exists in Colab.\n",
        "  %tensorflow_version 2.x\n",
        "except Exception:\n",
        "  pass"
      ],
      "execution_count": 1,
      "outputs": [
        {
          "output_type": "stream",
          "text": [
            "TensorFlow 2.x selected.\n"
          ],
          "name": "stdout"
        }
      ]
    },
    {
      "cell_type": "code",
      "metadata": {
        "id": "CBkYpyipxk6x",
        "colab_type": "code",
        "colab": {
          "base_uri": "https://localhost:8080/",
          "height": 34
        },
        "outputId": "1d585a65-c39b-45f8-915b-26cb32bd1b3f"
      },
      "source": [
        "import tensorflow as tf\n",
        "import numpy as np\n",
        "import matplotlib.pyplot as plt\n",
        "print('tensorflow version', tf.__version__, 'imported as tf')"
      ],
      "execution_count": 2,
      "outputs": [
        {
          "output_type": "stream",
          "text": [
            "tensorflow version 2.1.0 imported as tf\n"
          ],
          "name": "stdout"
        }
      ]
    },
    {
      "cell_type": "code",
      "metadata": {
        "id": "0O7CirHBiOg8",
        "colab_type": "code",
        "outputId": "5f8e980c-bb38-4d92-d604-091b93724f71",
        "colab": {
          "base_uri": "https://localhost:8080/",
          "height": 218
        }
      },
      "source": [
        "(x_train, y_train), (x_test, y_test) = tf.keras.datasets.fashion_mnist.load_data()\n",
        "\n",
        "print('Spape of training data:', x_train.shape)\n",
        "print('Spape of training labels:', y_train.shape)\n",
        "print('Spape of test data:', x_test.shape)\n",
        "print('Spape of test labels:', y_test.shape)"
      ],
      "execution_count": 3,
      "outputs": [
        {
          "output_type": "stream",
          "text": [
            "Downloading data from https://storage.googleapis.com/tensorflow/tf-keras-datasets/train-labels-idx1-ubyte.gz\n",
            "32768/29515 [=================================] - 0s 0us/step\n",
            "Downloading data from https://storage.googleapis.com/tensorflow/tf-keras-datasets/train-images-idx3-ubyte.gz\n",
            "26427392/26421880 [==============================] - 0s 0us/step\n",
            "Downloading data from https://storage.googleapis.com/tensorflow/tf-keras-datasets/t10k-labels-idx1-ubyte.gz\n",
            "8192/5148 [===============================================] - 0s 0us/step\n",
            "Downloading data from https://storage.googleapis.com/tensorflow/tf-keras-datasets/t10k-images-idx3-ubyte.gz\n",
            "4423680/4422102 [==============================] - 0s 0us/step\n",
            "Spape of training data: (60000, 28, 28)\n",
            "Spape of training labels: (60000,)\n",
            "Spape of test data: (10000, 28, 28)\n",
            "Spape of test labels: (10000,)\n"
          ],
          "name": "stdout"
        }
      ]
    },
    {
      "cell_type": "code",
      "metadata": {
        "id": "Ddvx7m8eiOg_",
        "colab_type": "code",
        "colab": {}
      },
      "source": [
        "x_train = x_train/255.0\n",
        "x_test = x_test/255.0"
      ],
      "execution_count": 0,
      "outputs": []
    },
    {
      "cell_type": "code",
      "metadata": {
        "id": "rLYWLpaE1fzN",
        "colab_type": "code",
        "colab": {}
      },
      "source": [
        "# add empty color dimension\n",
        "x_train = np.expand_dims(x_train, -1)\n",
        "x_test = np.expand_dims(x_test, -1)"
      ],
      "execution_count": 0,
      "outputs": []
    },
    {
      "cell_type": "code",
      "metadata": {
        "id": "tmX22RkEiOhC",
        "colab_type": "code",
        "colab": {
          "base_uri": "https://localhost:8080/",
          "height": 487
        },
        "outputId": "fb4c5e01-86e7-4a01-8063-a735bffbdc55"
      },
      "source": [
        "model = tf.keras.Sequential([\n",
        "    tf.keras.layers.Conv2D(filters=64, kernel_size=2, padding='same', activation=tf.nn.relu, input_shape=(28, 28, 1)),\n",
        "    tf.keras.layers.MaxPooling2D(pool_size=2),\n",
        "    tf.keras.layers.Dropout(0.3),\n",
        "    tf.keras.layers.Conv2D(filters=32, kernel_size=2, padding='same', activation=tf.nn.relu),\n",
        "    tf.keras.layers.MaxPooling2D(pool_size=2),\n",
        "    tf.keras.layers.Dropout(0.3),\n",
        "    tf.keras.layers.Flatten(),\n",
        "    tf.keras.layers.Dense(256, activation=tf.nn.relu), \n",
        "    tf.keras.layers.Dropout(0.5),\n",
        "    tf.keras.layers.Dense(10, activation='softmax')\n",
        "])\n",
        "model.summary()"
      ],
      "execution_count": 26,
      "outputs": [
        {
          "output_type": "stream",
          "text": [
            "Model: \"sequential_7\"\n",
            "_________________________________________________________________\n",
            "Layer (type)                 Output Shape              Param #   \n",
            "=================================================================\n",
            "conv2d_12 (Conv2D)           (None, 28, 28, 64)        320       \n",
            "_________________________________________________________________\n",
            "max_pooling2d_12 (MaxPooling (None, 14, 14, 64)        0         \n",
            "_________________________________________________________________\n",
            "dropout_18 (Dropout)         (None, 14, 14, 64)        0         \n",
            "_________________________________________________________________\n",
            "conv2d_13 (Conv2D)           (None, 14, 14, 32)        8224      \n",
            "_________________________________________________________________\n",
            "max_pooling2d_13 (MaxPooling (None, 7, 7, 32)          0         \n",
            "_________________________________________________________________\n",
            "dropout_19 (Dropout)         (None, 7, 7, 32)          0         \n",
            "_________________________________________________________________\n",
            "flatten_6 (Flatten)          (None, 1568)              0         \n",
            "_________________________________________________________________\n",
            "dense_12 (Dense)             (None, 256)               401664    \n",
            "_________________________________________________________________\n",
            "dropout_20 (Dropout)         (None, 256)               0         \n",
            "_________________________________________________________________\n",
            "dense_13 (Dense)             (None, 10)                2570      \n",
            "=================================================================\n",
            "Total params: 412,778\n",
            "Trainable params: 412,778\n",
            "Non-trainable params: 0\n",
            "_________________________________________________________________\n"
          ],
          "name": "stdout"
        }
      ]
    },
    {
      "cell_type": "code",
      "metadata": {
        "id": "0KDVLEiiiOhF",
        "colab_type": "code",
        "colab": {}
      },
      "source": [
        "model.compile(optimizer=tf.keras.optimizers.Adam(),\n",
        "              loss=tf.keras.losses.SparseCategoricalCrossentropy(),\n",
        "              metrics=['accuracy'])"
      ],
      "execution_count": 0,
      "outputs": []
    },
    {
      "cell_type": "code",
      "metadata": {
        "id": "PM13c-TI0pDy",
        "colab_type": "code",
        "colab": {
          "base_uri": "https://localhost:8080/",
          "height": 386
        },
        "outputId": "3712d27a-51cb-4a24-993c-7f9e68d53e1f"
      },
      "source": [
        "model.fit(x_train, y_train, batch_size=64, epochs=10, validation_data=(x_test, y_test))#,callbacks=[checkpointer])"
      ],
      "execution_count": 28,
      "outputs": [
        {
          "output_type": "stream",
          "text": [
            "Train on 60000 samples, validate on 10000 samples\n",
            "Epoch 1/10\n",
            "60000/60000 [==============================] - 85s 1ms/sample - loss: 0.5960 - accuracy: 0.7813 - val_loss: 0.3961 - val_accuracy: 0.8560\n",
            "Epoch 2/10\n",
            "60000/60000 [==============================] - 80s 1ms/sample - loss: 0.4150 - accuracy: 0.8485 - val_loss: 0.3567 - val_accuracy: 0.8682\n",
            "Epoch 3/10\n",
            "60000/60000 [==============================] - 77s 1ms/sample - loss: 0.3711 - accuracy: 0.8637 - val_loss: 0.3114 - val_accuracy: 0.8858\n",
            "Epoch 4/10\n",
            "60000/60000 [==============================] - 75s 1ms/sample - loss: 0.3422 - accuracy: 0.8747 - val_loss: 0.2950 - val_accuracy: 0.8926\n",
            "Epoch 5/10\n",
            "60000/60000 [==============================] - 75s 1ms/sample - loss: 0.3201 - accuracy: 0.8819 - val_loss: 0.2746 - val_accuracy: 0.8969\n",
            "Epoch 6/10\n",
            "60000/60000 [==============================] - 75s 1ms/sample - loss: 0.3050 - accuracy: 0.8887 - val_loss: 0.2632 - val_accuracy: 0.9029\n",
            "Epoch 7/10\n",
            "60000/60000 [==============================] - 77s 1ms/sample - loss: 0.2925 - accuracy: 0.8928 - val_loss: 0.2600 - val_accuracy: 0.9046\n",
            "Epoch 8/10\n",
            "60000/60000 [==============================] - 77s 1ms/sample - loss: 0.2802 - accuracy: 0.8972 - val_loss: 0.2713 - val_accuracy: 0.9009\n",
            "Epoch 9/10\n",
            "60000/60000 [==============================] - 77s 1ms/sample - loss: 0.2745 - accuracy: 0.8982 - val_loss: 0.2529 - val_accuracy: 0.9083\n",
            "Epoch 10/10\n",
            "60000/60000 [==============================] - 75s 1ms/sample - loss: 0.2668 - accuracy: 0.9022 - val_loss: 0.2440 - val_accuracy: 0.9118\n"
          ],
          "name": "stdout"
        },
        {
          "output_type": "execute_result",
          "data": {
            "text/plain": [
              "<tensorflow.python.keras.callbacks.History at 0x7f658ab67240>"
            ]
          },
          "metadata": {
            "tags": []
          },
          "execution_count": 28
        }
      ]
    },
    {
      "cell_type": "code",
      "metadata": {
        "id": "rRByZ5-36iLk",
        "colab_type": "code",
        "colab": {
          "base_uri": "https://localhost:8080/",
          "height": 34
        },
        "outputId": "554b7093-6f1f-446d-eb7f-5c795f743938"
      },
      "source": [
        "test_loss, test_acc = model.evaluate(x_test, y_test)"
      ],
      "execution_count": 30,
      "outputs": [
        {
          "output_type": "stream",
          "text": [
            "10000/10000 [==============================] - 3s 345us/sample - loss: 0.2440 - accuracy: 0.9118\n"
          ],
          "name": "stdout"
        }
      ]
    },
    {
      "cell_type": "code",
      "metadata": {
        "id": "UAr4zF5A65lo",
        "colab_type": "code",
        "colab": {}
      },
      "source": [
        "predictions = model.predict(x_test)"
      ],
      "execution_count": 0,
      "outputs": []
    },
    {
      "cell_type": "code",
      "metadata": {
        "id": "4F_WTGKOiOhY",
        "colab_type": "code",
        "colab": {}
      },
      "source": [
        "classes = ['T-shirt/top', 'Trouser', 'Pullover', 'Dress', 'Coat',\n",
        "               'Sandal', 'Shirt', 'Sneaker', 'Bag', 'Ankle boot']\n",
        "max_len = np.amax(np.char.str_len(classes))"
      ],
      "execution_count": 0,
      "outputs": []
    },
    {
      "cell_type": "code",
      "metadata": {
        "id": "BOdc3zstiOha",
        "colab_type": "code",
        "outputId": "c94d9657-c762-4343-b6c2-f93599ffd745",
        "colab": {
          "base_uri": "https://localhost:8080/",
          "height": 1000
        }
      },
      "source": [
        "print('Predicted'.ljust(max_len, ' '), '-','Label')\n",
        "print('------------------------------------------')\n",
        "for i in range(100):\n",
        "    print(classes[np.argmax(predictions[i])].ljust(max_len, ' '), '-', classes[y_test[i]])\n",
        "    if(np.argmax(predictions[i]) !=  y_test[i]):\n",
        "        print('^^^^^^^^^ Wrong ^^^^^^^^^')"
      ],
      "execution_count": 33,
      "outputs": [
        {
          "output_type": "stream",
          "text": [
            "Predicted   - Label\n",
            "------------------------------------------\n",
            "Ankle boot  - Ankle boot\n",
            "Pullover    - Pullover\n",
            "Trouser     - Trouser\n",
            "Trouser     - Trouser\n",
            "Shirt       - Shirt\n",
            "Trouser     - Trouser\n",
            "Coat        - Coat\n",
            "Shirt       - Shirt\n",
            "Sandal      - Sandal\n",
            "Sneaker     - Sneaker\n",
            "Coat        - Coat\n",
            "Sandal      - Sandal\n",
            "Sandal      - Sneaker\n",
            "^^^^^^^^^ Wrong ^^^^^^^^^\n",
            "Dress       - Dress\n",
            "Coat        - Coat\n",
            "Trouser     - Trouser\n",
            "Pullover    - Pullover\n",
            "Coat        - Coat\n",
            "Bag         - Bag\n",
            "T-shirt/top - T-shirt/top\n",
            "Pullover    - Pullover\n",
            "Sandal      - Sandal\n",
            "Sneaker     - Sneaker\n",
            "Sandal      - Ankle boot\n",
            "^^^^^^^^^ Wrong ^^^^^^^^^\n",
            "Trouser     - Trouser\n",
            "Pullover    - Coat\n",
            "^^^^^^^^^ Wrong ^^^^^^^^^\n",
            "Shirt       - Shirt\n",
            "T-shirt/top - T-shirt/top\n",
            "Ankle boot  - Ankle boot\n",
            "Dress       - Dress\n",
            "Bag         - Bag\n",
            "Bag         - Bag\n",
            "Dress       - Dress\n",
            "Dress       - Dress\n",
            "Bag         - Bag\n",
            "T-shirt/top - T-shirt/top\n",
            "Sneaker     - Sneaker\n",
            "Sandal      - Sandal\n",
            "Sneaker     - Sneaker\n",
            "Ankle boot  - Ankle boot\n",
            "T-shirt/top - Shirt\n",
            "^^^^^^^^^ Wrong ^^^^^^^^^\n",
            "Trouser     - Trouser\n",
            "T-shirt/top - Dress\n",
            "^^^^^^^^^ Wrong ^^^^^^^^^\n",
            "Ankle boot  - Sneaker\n",
            "^^^^^^^^^ Wrong ^^^^^^^^^\n",
            "Shirt       - Shirt\n",
            "Sneaker     - Sneaker\n",
            "Pullover    - Pullover\n",
            "Trouser     - Trouser\n",
            "Pullover    - Pullover\n",
            "Shirt       - Pullover\n",
            "^^^^^^^^^ Wrong ^^^^^^^^^\n",
            "Coat        - Coat\n",
            "Shirt       - Coat\n",
            "^^^^^^^^^ Wrong ^^^^^^^^^\n",
            "Sandal      - Sandal\n",
            "Bag         - Bag\n",
            "Pullover    - Pullover\n",
            "Pullover    - Pullover\n",
            "Bag         - Bag\n",
            "Shirt       - Coat\n",
            "^^^^^^^^^ Wrong ^^^^^^^^^\n",
            "Bag         - Bag\n",
            "T-shirt/top - T-shirt/top\n",
            "Sneaker     - Sneaker\n",
            "Sneaker     - Sneaker\n",
            "Bag         - Bag\n",
            "Sandal      - Sandal\n",
            "Trouser     - Trouser\n",
            "Trouser     - Trouser\n",
            "Pullover    - Pullover\n",
            "Coat        - Dress\n",
            "^^^^^^^^^ Wrong ^^^^^^^^^\n",
            "Sneaker     - Ankle boot\n",
            "^^^^^^^^^ Wrong ^^^^^^^^^\n",
            "Bag         - Bag\n",
            "Sneaker     - Sneaker\n",
            "T-shirt/top - T-shirt/top\n",
            "Pullover    - Pullover\n",
            "Shirt       - Shirt\n",
            "Pullover    - Pullover\n",
            "Dress       - Dress\n",
            "Trouser     - Trouser\n",
            "Pullover    - Pullover\n",
            "Bag         - Bag\n",
            "Coat        - Coat\n",
            "Trouser     - Trouser\n",
            "Bag         - Bag\n",
            "Sandal      - Sandal\n",
            "Ankle boot  - Ankle boot\n",
            "Sandal      - Sandal\n",
            "T-shirt/top - T-shirt/top\n",
            "Dress       - Dress\n",
            "Pullover    - Pullover\n",
            "T-shirt/top - T-shirt/top\n",
            "Pullover    - Shirt\n",
            "^^^^^^^^^ Wrong ^^^^^^^^^\n",
            "Sandal      - Sandal\n",
            "Dress       - Dress\n",
            "Shirt       - Shirt\n",
            "Sneaker     - Sneaker\n",
            "Trouser     - Trouser\n",
            "Bag         - Bag\n",
            "T-shirt/top - T-shirt/top\n",
            "Trouser     - Trouser\n",
            "Pullover    - Coat\n",
            "^^^^^^^^^ Wrong ^^^^^^^^^\n",
            "Pullover    - Pullover\n"
          ],
          "name": "stdout"
        }
      ]
    },
    {
      "cell_type": "code",
      "metadata": {
        "id": "_QkHVbs57HEt",
        "colab_type": "code",
        "colab": {}
      },
      "source": [
        ""
      ],
      "execution_count": 0,
      "outputs": []
    }
  ]
}