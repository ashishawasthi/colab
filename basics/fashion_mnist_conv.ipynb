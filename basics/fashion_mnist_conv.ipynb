{
  "nbformat": 4,
  "nbformat_minor": 0,
  "metadata": {
    "kernelspec": {
      "display_name": "Python 3",
      "language": "python",
      "name": "python3"
    },
    "language_info": {
      "codemirror_mode": {
        "name": "ipython",
        "version": 3
      },
      "file_extension": ".py",
      "mimetype": "text/x-python",
      "name": "python",
      "nbconvert_exporter": "python",
      "pygments_lexer": "ipython3",
      "version": "3.7.6"
    },
    "colab": {
      "name": "fashion_mnist_feedforward.ipynb",
      "provenance": [],
      "include_colab_link": true
    }
  },
  "cells": [
    {
      "cell_type": "markdown",
      "metadata": {
        "id": "view-in-github",
        "colab_type": "text"
      },
      "source": [
        "<a href=\"https://colab.research.google.com/github/ashishawasthi/colab/blob/master/basics/fashion_mnist_conv.ipynb\" target=\"_parent\"><img src=\"https://colab.research.google.com/assets/colab-badge.svg\" alt=\"Open In Colab\"/></a>"
      ]
    },
    {
      "cell_type": "code",
      "metadata": {
        "id": "fNN1pyZ4iOg2",
        "colab_type": "code",
        "colab": {},
        "outputId": "3f1934c3-4969-4863-f186-896d8aa48f82"
      },
      "source": [
        "import tensorflow as tf\n",
        "import numpy as np\n",
        "from tensorflow import keras\n",
        "import matplotlib.pyplot as plt\n",
        "print('tensorflow version', tf.__version__, 'imported as tf')"
      ],
      "execution_count": 0,
      "outputs": [
        {
          "output_type": "stream",
          "text": [
            "tensorflow version 2.1.0 imported as tf\n"
          ],
          "name": "stdout"
        }
      ]
    },
    {
      "cell_type": "code",
      "metadata": {
        "id": "0O7CirHBiOg8",
        "colab_type": "code",
        "colab": {},
        "outputId": "5d2bc39a-6c57-4eb0-fad7-0c4940712603"
      },
      "source": [
        "(x_train, y_train), (x_test, y_test) = tf.keras.datasets.fashion_mnist.load_data()\n",
        "\n",
        "print('Spape of training data:', x_train.shape)\n",
        "print('Spape of training labels:', y_train.shape)\n",
        "print('Spape of test data:', x_test.shape)\n",
        "print('Spape of test labels:', y_test.shape)"
      ],
      "execution_count": 0,
      "outputs": [
        {
          "output_type": "stream",
          "text": [
            "Spape of training data: (60000, 28, 28)\n",
            "Spape of training labels: (60000,)\n",
            "Spape of test data: (10000, 28, 28)\n",
            "Spape of test labels: (10000,)\n"
          ],
          "name": "stdout"
        }
      ]
    },
    {
      "cell_type": "code",
      "metadata": {
        "id": "Ddvx7m8eiOg_",
        "colab_type": "code",
        "colab": {}
      },
      "source": [
        "x_train = x_train/255.0\n",
        "x_test = x_test/255.0"
      ],
      "execution_count": 0,
      "outputs": []
    },
    {
      "cell_type": "code",
      "metadata": {
        "id": "tmX22RkEiOhC",
        "colab_type": "code",
        "colab": {}
      },
      "source": [
        "model = tf.keras.Sequential([\n",
        "    keras.layers.Flatten(input_shape=[28, 28]),\n",
        "    keras.layers.Dense(128, activation=tf.nn.relu), \n",
        "    keras.layers.Dropout(0.2),\n",
        "    keras.layers.Dense(10)\n",
        "])"
      ],
      "execution_count": 0,
      "outputs": []
    },
    {
      "cell_type": "markdown",
      "metadata": {
        "id": "tD7shRQyiOhE",
        "colab_type": "text"
      },
      "source": [
        "### Using logics for better numeric stability of loss calculation"
      ]
    },
    {
      "cell_type": "code",
      "metadata": {
        "id": "0KDVLEiiiOhF",
        "colab_type": "code",
        "colab": {}
      },
      "source": [
        "model.compile(optimizer=keras.optimizers.Adam(),\n",
        "              loss=tf.keras.losses.SparseCategoricalCrossentropy(from_logits=True),\n",
        "              metrics=['accuracy'])"
      ],
      "execution_count": 0,
      "outputs": []
    },
    {
      "cell_type": "markdown",
      "metadata": {
        "id": "Up63KjAIiOhI",
        "colab_type": "text"
      },
      "source": [
        "### Callback to stop training after reaching given accuracy"
      ]
    },
    {
      "cell_type": "code",
      "metadata": {
        "id": "uaao6DpjiOhI",
        "colab_type": "code",
        "colab": {}
      },
      "source": [
        "class accuracyCallback(tf.keras.callbacks.Callback):\n",
        "  def on_epoch_end(self, epoch, logs={}):\n",
        "    if(logs.get('accuracy')>0.95):\n",
        "      print(\"\\nReached 95% accuracy so cancelling training!\")\n",
        "      self.model.stop_training = True\n",
        "        \n",
        "callbacks = accuracyCallback()"
      ],
      "execution_count": 0,
      "outputs": []
    },
    {
      "cell_type": "code",
      "metadata": {
        "id": "uaAyqt1ciOhM",
        "colab_type": "code",
        "colab": {},
        "outputId": "5eba552a-52a2-4cbc-9410-2689fc83ffb8"
      },
      "source": [
        "model.fit(x_train, y_train, epochs=20, callbacks=[callbacks])"
      ],
      "execution_count": 0,
      "outputs": [
        {
          "output_type": "stream",
          "text": [
            "Train on 60000 samples\n",
            "Epoch 1/20\n",
            "60000/60000 [==============================] - 2s 36us/sample - loss: 0.5259 - accuracy: 0.8136\n",
            "Epoch 2/20\n",
            "60000/60000 [==============================] - 2s 32us/sample - loss: 0.3966 - accuracy: 0.8572s - loss: 0.395\n",
            "Epoch 3/20\n",
            "60000/60000 [==============================] - 2s 31us/sample - loss: 0.3641 - accuracy: 0.8669\n",
            "Epoch 4/20\n",
            "60000/60000 [==============================] - 2s 31us/sample - loss: 0.3427 - accuracy: 0.8740s - loss: 0.3419 - accuracy: 0.87\n",
            "Epoch 5/20\n",
            "60000/60000 [==============================] - 2s 32us/sample - loss: 0.3294 - accuracy: 0.8788\n",
            "Epoch 6/20\n",
            "60000/60000 [==============================] - 2s 31us/sample - loss: 0.3164 - accuracy: 0.8827\n",
            "Epoch 7/20\n",
            "60000/60000 [==============================] - 2s 31us/sample - loss: 0.3064 - accuracy: 0.8867\n",
            "Epoch 8/20\n",
            "60000/60000 [==============================] - 2s 31us/sample - loss: 0.2986 - accuracy: 0.8883s - loss: 0.2982 - accuracy: 0.88\n",
            "Epoch 9/20\n",
            "60000/60000 [==============================] - 2s 31us/sample - loss: 0.2892 - accuracy: 0.8935\n",
            "Epoch 10/20\n",
            "60000/60000 [==============================] - 2s 32us/sample - loss: 0.2843 - accuracy: 0.8935\n",
            "Epoch 11/20\n",
            "60000/60000 [==============================] - 2s 31us/sample - loss: 0.2755 - accuracy: 0.8970\n",
            "Epoch 12/20\n",
            "60000/60000 [==============================] - 2s 31us/sample - loss: 0.2684 - accuracy: 0.9009\n",
            "Epoch 13/20\n",
            "60000/60000 [==============================] - 2s 32us/sample - loss: 0.2648 - accuracy: 0.9000\n",
            "Epoch 14/20\n",
            "60000/60000 [==============================] - 2s 32us/sample - loss: 0.2607 - accuracy: 0.9016\n",
            "Epoch 15/20\n",
            "60000/60000 [==============================] - 2s 32us/sample - loss: 0.2548 - accuracy: 0.9047\n",
            "Epoch 16/20\n",
            "60000/60000 [==============================] - 2s 32us/sample - loss: 0.2528 - accuracy: 0.9052\n",
            "Epoch 17/20\n",
            "60000/60000 [==============================] - 2s 31us/sample - loss: 0.2482 - accuracy: 0.9076\n",
            "Epoch 18/20\n",
            "60000/60000 [==============================] - 2s 31us/sample - loss: 0.2405 - accuracy: 0.9094\n",
            "Epoch 19/20\n",
            "60000/60000 [==============================] - 2s 32us/sample - loss: 0.2385 - accuracy: 0.9100\n",
            "Epoch 20/20\n",
            "60000/60000 [==============================] - 2s 31us/sample - loss: 0.2370 - accuracy: 0.9105\n"
          ],
          "name": "stdout"
        },
        {
          "output_type": "execute_result",
          "data": {
            "text/plain": [
              "<tensorflow.python.keras.callbacks.History at 0x1be8f9e2148>"
            ]
          },
          "metadata": {
            "tags": []
          },
          "execution_count": 21
        }
      ]
    },
    {
      "cell_type": "code",
      "metadata": {
        "id": "U8boVjITiOhP",
        "colab_type": "code",
        "colab": {},
        "outputId": "474f6787-56db-4dde-ab47-f7493b82348a"
      },
      "source": [
        "test_loss, test_acc = model.evaluate(x_test, y_test)"
      ],
      "execution_count": 0,
      "outputs": [
        {
          "output_type": "stream",
          "text": [
            "10000/10000 [==============================] - 0s 26us/sample - loss: 0.3437 - accuracy: 0.8836\n"
          ],
          "name": "stdout"
        }
      ]
    },
    {
      "cell_type": "markdown",
      "metadata": {
        "id": "4P1yO6AZiOhS",
        "colab_type": "text"
      },
      "source": [
        "### Attach a softmax layer to convert the logits to probabilities, which are easier to interpret."
      ]
    },
    {
      "cell_type": "code",
      "metadata": {
        "id": "oyorVMakiOhS",
        "colab_type": "code",
        "colab": {}
      },
      "source": [
        "probability_model = tf.keras.Sequential([model, tf.keras.layers.Softmax()])"
      ],
      "execution_count": 0,
      "outputs": []
    },
    {
      "cell_type": "code",
      "metadata": {
        "id": "ebOSTvCoiOhV",
        "colab_type": "code",
        "colab": {}
      },
      "source": [
        "predictions = probability_model.predict(x_test)"
      ],
      "execution_count": 0,
      "outputs": []
    },
    {
      "cell_type": "code",
      "metadata": {
        "id": "4F_WTGKOiOhY",
        "colab_type": "code",
        "colab": {}
      },
      "source": [
        "classes = ['T-shirt/top', 'Trouser', 'Pullover', 'Dress', 'Coat',\n",
        "               'Sandal', 'Shirt', 'Sneaker', 'Bag', 'Ankle boot']\n",
        "max_len = np.amax(np.char.str_len(classes))"
      ],
      "execution_count": 0,
      "outputs": []
    },
    {
      "cell_type": "code",
      "metadata": {
        "id": "BOdc3zstiOha",
        "colab_type": "code",
        "colab": {},
        "outputId": "c9802cca-522d-4c70-81a5-87c450982942"
      },
      "source": [
        "print('Predicted'.ljust(max_len, ' '), '-','Label')\n",
        "print('------------------------------------------')\n",
        "for i in range(100):\n",
        "    print(classes[np.argmax(predictions[i])].ljust(max_len, ' '), '-', classes[y_test[i]])\n",
        "    if(np.argmax(predictions[i]) !=  y_test[i]):\n",
        "        print('^^^^^^^^^ Wrong ^^^^^^^^^')"
      ],
      "execution_count": 0,
      "outputs": [
        {
          "output_type": "stream",
          "text": [
            "Predicted   - Label\n",
            "------------------------------------------\n",
            "Ankle boot  - Ankle boot\n",
            "Pullover    - Pullover\n",
            "Trouser     - Trouser\n",
            "Trouser     - Trouser\n",
            "Shirt       - Shirt\n",
            "Trouser     - Trouser\n",
            "Coat        - Coat\n",
            "Shirt       - Shirt\n",
            "Sandal      - Sandal\n",
            "Sneaker     - Sneaker\n",
            "Coat        - Coat\n",
            "Sandal      - Sandal\n",
            "Sandal      - Sneaker\n",
            "^^^^^^^^^ Wrong ^^^^^^^^^\n",
            "Dress       - Dress\n",
            "Coat        - Coat\n",
            "Trouser     - Trouser\n",
            "Pullover    - Pullover\n",
            "Pullover    - Coat\n",
            "^^^^^^^^^ Wrong ^^^^^^^^^\n",
            "Bag         - Bag\n",
            "T-shirt/top - T-shirt/top\n",
            "Pullover    - Pullover\n",
            "Sandal      - Sandal\n",
            "Sneaker     - Sneaker\n",
            "Ankle boot  - Ankle boot\n",
            "Trouser     - Trouser\n",
            "Pullover    - Coat\n",
            "^^^^^^^^^ Wrong ^^^^^^^^^\n",
            "Shirt       - Shirt\n",
            "T-shirt/top - T-shirt/top\n",
            "Ankle boot  - Ankle boot\n",
            "Shirt       - Dress\n",
            "^^^^^^^^^ Wrong ^^^^^^^^^\n",
            "Bag         - Bag\n",
            "Bag         - Bag\n",
            "Dress       - Dress\n",
            "Dress       - Dress\n",
            "Bag         - Bag\n",
            "T-shirt/top - T-shirt/top\n",
            "Sneaker     - Sneaker\n",
            "Sandal      - Sandal\n",
            "Sneaker     - Sneaker\n",
            "Ankle boot  - Ankle boot\n",
            "T-shirt/top - Shirt\n",
            "^^^^^^^^^ Wrong ^^^^^^^^^\n",
            "Trouser     - Trouser\n",
            "Shirt       - Dress\n",
            "^^^^^^^^^ Wrong ^^^^^^^^^\n",
            "Sneaker     - Sneaker\n",
            "Shirt       - Shirt\n",
            "Sneaker     - Sneaker\n",
            "Pullover    - Pullover\n",
            "Trouser     - Trouser\n",
            "Pullover    - Pullover\n",
            "Shirt       - Pullover\n",
            "^^^^^^^^^ Wrong ^^^^^^^^^\n",
            "Coat        - Coat\n",
            "Pullover    - Coat\n",
            "^^^^^^^^^ Wrong ^^^^^^^^^\n",
            "Sandal      - Sandal\n",
            "Bag         - Bag\n",
            "Pullover    - Pullover\n",
            "Pullover    - Pullover\n",
            "Bag         - Bag\n",
            "Coat        - Coat\n",
            "Bag         - Bag\n",
            "T-shirt/top - T-shirt/top\n",
            "Sneaker     - Sneaker\n",
            "Sneaker     - Sneaker\n",
            "Bag         - Bag\n",
            "Sandal      - Sandal\n",
            "Trouser     - Trouser\n",
            "Trouser     - Trouser\n",
            "Dress       - Pullover\n",
            "^^^^^^^^^ Wrong ^^^^^^^^^\n",
            "Coat        - Dress\n",
            "^^^^^^^^^ Wrong ^^^^^^^^^\n",
            "Sneaker     - Ankle boot\n",
            "^^^^^^^^^ Wrong ^^^^^^^^^\n",
            "Bag         - Bag\n",
            "Sneaker     - Sneaker\n",
            "T-shirt/top - T-shirt/top\n",
            "Pullover    - Pullover\n",
            "Shirt       - Shirt\n",
            "Pullover    - Pullover\n",
            "Dress       - Dress\n",
            "Trouser     - Trouser\n",
            "Pullover    - Pullover\n",
            "Bag         - Bag\n",
            "Coat        - Coat\n",
            "Trouser     - Trouser\n",
            "Bag         - Bag\n",
            "Sandal      - Sandal\n",
            "Ankle boot  - Ankle boot\n",
            "Sandal      - Sandal\n",
            "T-shirt/top - T-shirt/top\n",
            "Dress       - Dress\n",
            "Pullover    - Pullover\n",
            "T-shirt/top - T-shirt/top\n",
            "Pullover    - Shirt\n",
            "^^^^^^^^^ Wrong ^^^^^^^^^\n",
            "Sandal      - Sandal\n",
            "Dress       - Dress\n",
            "Shirt       - Shirt\n",
            "Sneaker     - Sneaker\n",
            "Trouser     - Trouser\n",
            "Bag         - Bag\n",
            "T-shirt/top - T-shirt/top\n",
            "Trouser     - Trouser\n",
            "Coat        - Coat\n",
            "Pullover    - Pullover\n"
          ],
          "name": "stdout"
        }
      ]
    }
  ]
}