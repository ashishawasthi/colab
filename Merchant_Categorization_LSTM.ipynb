{
  "nbformat": 4,
  "nbformat_minor": 0,
  "metadata": {
    "colab": {
      "provenance": [],
      "authorship_tag": "ABX9TyMMfWLiVIMutvKtouMhIQd5",
      "include_colab_link": true
    },
    "kernelspec": {
      "name": "python3",
      "display_name": "Python 3"
    },
    "language_info": {
      "name": "python"
    }
  },
  "cells": [
    {
      "cell_type": "markdown",
      "metadata": {
        "id": "view-in-github",
        "colab_type": "text"
      },
      "source": [
        "<a href=\"https://colab.research.google.com/github/ashishawasthi/colab/blob/master/Merchant_Categorization_LSTM.ipynb\" target=\"_parent\"><img src=\"https://colab.research.google.com/assets/colab-badge.svg\" alt=\"Open In Colab\"/></a>"
      ]
    },
    {
      "cell_type": "code",
      "source": [
        "import pandas as pd\n",
        "import numpy as np\n",
        "from sklearn.model_selection import train_test_split\n",
        "from sklearn.preprocessing import OneHotEncoder, LabelEncoder\n",
        "from tensorflow.keras.preprocessing.text import Tokenizer\n",
        "from tensorflow.keras.preprocessing.sequence import pad_sequences\n",
        "from tensorflow.keras.models import Model\n",
        "from tensorflow.keras.layers import Input, LSTM, Dense, Embedding\n",
        "from sklearn.metrics import classification_report"
      ],
      "metadata": {
        "id": "T7wP_kBtmgrF"
      },
      "execution_count": 1,
      "outputs": []
    },
    {
      "cell_type": "markdown",
      "source": [
        "### Load data"
      ],
      "metadata": {
        "id": "WKkuybd1n9jV"
      }
    },
    {
      "cell_type": "code",
      "source": [
        "# df = pd.read_csv('transactions.csv')"
      ],
      "metadata": {
        "id": "FaxJkcsSmgnh"
      },
      "execution_count": 2,
      "outputs": []
    },
    {
      "cell_type": "code",
      "source": [
        "data = {\n",
        "    'transaction_description': [\n",
        "        'Purchase at Merchant A id123', \n",
        "        'Purchase at Merchant B id124', \n",
        "        'Purchase at Merchant C id125', \n",
        "        'Refund at Merchant A id126', \n",
        "        'Purchase at Merchant D id127', \n",
        "        'Purchase at Merchant B id128', \n",
        "        'Refund at Merchant E id129', \n",
        "        'Purchase at Merchant F id130', \n",
        "        'Purchase at Merchant G id131', \n",
        "        'Refund at Merchant A id132'\n",
        "    ],\n",
        "    'MCC': ['5812', '5814', '5732', '5812', '5812', '5814', '5813', '5813', '5813', '5812'],\n",
        "    'merchant_name': [\n",
        "        'Merchant A', # 5812\n",
        "        'Merchant B', # 5814\n",
        "        'Merchant C', # 5732\n",
        "        'Merchant A', # 5812\n",
        "        'Merchant D', # 5812\n",
        "        'Merchant B', # 5814\n",
        "        'Merchant E', # 5813\n",
        "        'Merchant E', # 5813\n",
        "        'Merchant E', # 5813\n",
        "        'Merchant A'  # 5812\n",
        "    ],\n",
        "    'transaction_category': ['Food', 'Food', 'Electronics', 'Food', 'Food', 'Food', 'Travel', 'Electronics', 'Food', 'Food']\n",
        "}\n",
        "\n",
        "df = pd.DataFrame(data)\n"
      ],
      "metadata": {
        "id": "cBxocl9OoDQJ"
      },
      "execution_count": 3,
      "outputs": []
    },
    {
      "cell_type": "markdown",
      "source": [
        "### Prepare datasets"
      ],
      "metadata": {
        "id": "x92f04yLn6c1"
      }
    },
    {
      "cell_type": "code",
      "source": [
        "y = df['transaction_category']\n",
        "le = LabelEncoder()\n",
        "y = le.fit_transform(y)\n",
        "X = df.drop('transaction_category', axis=1)\n",
        "\n",
        "X_train, X_test, y_train, y_test = train_test_split(X, y, test_size=0.2, random_state=42)"
      ],
      "metadata": {
        "id": "1hB12TC2spRv"
      },
      "execution_count": 4,
      "outputs": []
    },
    {
      "cell_type": "markdown",
      "source": [
        "### Define feature engineering pipeline"
      ],
      "metadata": {
        "id": "5BbbYRM0nv-z"
      }
    },
    {
      "cell_type": "code",
      "source": [
        "# Tokenize and pad transaction_description\n",
        "maxlen = 100 # Adjust for expected max length of transaction_description\n",
        "tokenizer = Tokenizer()\n",
        "tokenizer.fit_on_texts(X_train['transaction_description'])\n",
        "sequences = tokenizer.texts_to_sequences(X_train['transaction_description'])\n",
        "word_index = tokenizer.word_index\n",
        "X_train_text = pad_sequences(sequences, maxlen=maxlen)\n",
        "sequences = tokenizer.texts_to_sequences(X_test['transaction_description'])\n",
        "X_test_text = pad_sequences(sequences, maxlen=maxlen)\n",
        "\n",
        "# One-hot encode categorical features\n",
        "ohe = OneHotEncoder()\n",
        "X_train_cat = ohe.fit_transform(X_train[['MCC', 'merchant_name']]).toarray()\n",
        "X_test_cat = ohe.transform(X_test[['MCC', 'merchant_name']]).toarray()\n",
        "\n",
        "# Concatenate text and categorical features\n",
        "X_train = np.concatenate([X_train_text, X_train_cat], axis=1)\n",
        "X_test = np.concatenate([X_test_text, X_test_cat], axis=1)"
      ],
      "metadata": {
        "id": "x6Y-lvwnmgke"
      },
      "execution_count": 5,
      "outputs": []
    },
    {
      "cell_type": "markdown",
      "source": [
        "### Train"
      ],
      "metadata": {
        "id": "crcCgNTanro2"
      }
    },
    {
      "cell_type": "code",
      "source": [
        "input = Input(shape=(X_train.shape[1],))\n",
        "embedded = Embedding(len(word_index) + 1, 128)(input)\n",
        "lstm_out = LSTM(64)(embedded)\n",
        "output = Dense(np.unique(y).shape[0], activation='softmax')(lstm_out)\n",
        "model = Model(input, output)\n",
        "\n",
        "model.compile(loss='sparse_categorical_crossentropy',\n",
        "              optimizer='adam',\n",
        "              metrics=['accuracy'])\n",
        "\n",
        "model.fit(X_train, y_train, epochs=10, batch_size=32)"
      ],
      "metadata": {
        "colab": {
          "base_uri": "https://localhost:8080/"
        },
        "id": "Exz66Xm1naSX",
        "outputId": "091603fc-7b20-44ef-fa61-4ea20a7aa750"
      },
      "execution_count": 6,
      "outputs": [
        {
          "output_type": "stream",
          "name": "stdout",
          "text": [
            "Epoch 1/10\n",
            "1/1 [==============================] - 8s 8s/step - loss: 1.0935 - accuracy: 0.6250\n",
            "Epoch 2/10\n",
            "1/1 [==============================] - 0s 86ms/step - loss: 1.0725 - accuracy: 0.6250\n",
            "Epoch 3/10\n",
            "1/1 [==============================] - 0s 72ms/step - loss: 1.0520 - accuracy: 0.6250\n",
            "Epoch 4/10\n",
            "1/1 [==============================] - 0s 72ms/step - loss: 1.0312 - accuracy: 0.6250\n",
            "Epoch 5/10\n",
            "1/1 [==============================] - 0s 74ms/step - loss: 1.0101 - accuracy: 0.6250\n",
            "Epoch 6/10\n",
            "1/1 [==============================] - 0s 74ms/step - loss: 0.9881 - accuracy: 0.6250\n",
            "Epoch 7/10\n",
            "1/1 [==============================] - 0s 72ms/step - loss: 0.9652 - accuracy: 0.6250\n",
            "Epoch 8/10\n",
            "1/1 [==============================] - 0s 72ms/step - loss: 0.9416 - accuracy: 0.6250\n",
            "Epoch 9/10\n",
            "1/1 [==============================] - 0s 83ms/step - loss: 0.9180 - accuracy: 0.6250\n",
            "Epoch 10/10\n",
            "1/1 [==============================] - 0s 71ms/step - loss: 0.8970 - accuracy: 0.6250\n"
          ]
        },
        {
          "output_type": "execute_result",
          "data": {
            "text/plain": [
              "<keras.callbacks.History at 0x7f6bc819a2f0>"
            ]
          },
          "metadata": {},
          "execution_count": 6
        }
      ]
    },
    {
      "cell_type": "markdown",
      "source": [
        "### Report"
      ],
      "metadata": {
        "id": "5DOyJjsVnkTl"
      }
    },
    {
      "cell_type": "code",
      "source": [
        "y_pred = model.predict(X_test).argmax(axis=1)\n",
        "print(classification_report(y_test, y_pred))"
      ],
      "metadata": {
        "colab": {
          "base_uri": "https://localhost:8080/"
        },
        "id": "ig4l3h9xmgeS",
        "outputId": "02e86879-f34c-4dff-8d4f-0bbd561c86a2"
      },
      "execution_count": 7,
      "outputs": [
        {
          "output_type": "stream",
          "name": "stdout",
          "text": [
            "1/1 [==============================] - 1s 503ms/step\n",
            "              precision    recall  f1-score   support\n",
            "\n",
            "           1       1.00      1.00      1.00         2\n",
            "\n",
            "    accuracy                           1.00         2\n",
            "   macro avg       1.00      1.00      1.00         2\n",
            "weighted avg       1.00      1.00      1.00         2\n",
            "\n"
          ]
        }
      ]
    }
  ]
}