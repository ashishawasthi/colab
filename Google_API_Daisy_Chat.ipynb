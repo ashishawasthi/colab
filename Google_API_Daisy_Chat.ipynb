{
  "nbformat": 4,
  "nbformat_minor": 0,
  "metadata": {
    "colab": {
      "provenance": [],
      "authorship_tag": "ABX9TyN1XTgs1woSkppJd0gmAMQ6",
      "include_colab_link": true
    },
    "kernelspec": {
      "name": "python3",
      "display_name": "Python 3"
    },
    "language_info": {
      "name": "python"
    }
  },
  "cells": [
    {
      "cell_type": "markdown",
      "metadata": {
        "id": "view-in-github",
        "colab_type": "text"
      },
      "source": [
        "<a href=\"https://colab.research.google.com/github/ashishawasthi/colab/blob/master/Google_API_Daisy_Chat.ipynb\" target=\"_parent\"><img src=\"https://colab.research.google.com/assets/colab-badge.svg\" alt=\"Open In Colab\"/></a>"
      ]
    },
    {
      "cell_type": "code",
      "execution_count": null,
      "metadata": {
        "id": "MKAe9RL2PyU5"
      },
      "outputs": [],
      "source": [
        "!pip install google-cloud-aiplatform"
      ]
    },
    {
      "cell_type": "code",
      "source": [
        "import vertexai\n",
        "from vertexai.preview.language_models import ChatModel, InputOutputTextPair"
      ],
      "metadata": {
        "id": "3_0TDyXTQYus"
      },
      "execution_count": 2,
      "outputs": []
    },
    {
      "cell_type": "markdown",
      "source": [
        "### Google account and project to use"
      ],
      "metadata": {
        "id": "88rTHY6aUdAc"
      }
    },
    {
      "cell_type": "code",
      "source": [
        "from google.colab import auth as google_auth\n",
        "google_auth.authenticate_user()\n",
        "project_id = \"generativai\" # Change to your Google cloud project\n",
        "vertexai.init(project=project_id)"
      ],
      "metadata": {
        "id": "vbcGyHDyUQTx"
      },
      "execution_count": 3,
      "outputs": []
    },
    {
      "cell_type": "markdown",
      "source": [
        "### Prompts and Input"
      ],
      "metadata": {
        "id": "r0c-f7fnWE0-"
      }
    },
    {
      "cell_type": "code",
      "source": [
        "context_1 = '''You are investment advisor. Answer the question based on following information:\n",
        "\n",
        "Reliance Industries \n",
        "Formerly\tReliance Commercial Corporation (1958)\n",
        "Reliance Textiles and Engineers (1966)[1]\n",
        "Type\tPublic\n",
        "Traded as\t\n",
        "BSE: 500325\n",
        "NSE: RELIANCE\n",
        "LSE: RIGD\n",
        "BSE SENSEX Constituent\n",
        "NSE NIFTY 50 Constituent\n",
        "ISIN\tINE002A01018\n",
        "Industry\tConglomerate\n",
        "Founded\t1958 (65 years ago)[1]\n",
        "Founder\tDhirubhai Ambani\n",
        "Headquarters\tMumbai, Maharashtra, India\n",
        "Area served\tWorldwide\n",
        "Key people\tMukesh Ambani\n",
        "(Chairman & Managing Director)\n",
        "Products\t\n",
        "Oil and Gas\n",
        "Chemicals\n",
        "Petrochemicals\n",
        "Oil refining\n",
        "Retail\n",
        "Telecommunications\n",
        "Media\n",
        "Revenue\tIncrease ₹976,524 crore (US$120 billion)[2] (2023)\n",
        "Operating income\tIncrease ₹94,844 crore (US$12 billion)[2] (2023)\n",
        "Net income\tIncrease ₹74,131 crore (US$9.3 billion)[2] (2023)\n",
        "Total assets\tIncrease ₹1,713,506 crore (US$210 billion)[2] (2023)\n",
        "Total equity\tIncrease ₹821,153 crore (US$100 billion)[2] (2023)\n",
        "Owner\t\n",
        "Mukesh Ambani (49.11%)[3]\n",
        "Number of employees\t342,982 (2022)[2][non-primary source needed]\n",
        "Subsidiaries\t\n",
        "Jio Platforms\n",
        "Reliance Retail\n",
        "Reliance Petroleum\n",
        "Network18 Group\n",
        "Alok Industries\n",
        "Reliance Foundation\n",
        "Indiawin Sports\n",
        "Reliance Global Corporate Security\n",
        "Website\twww.ril.com'''\n",
        "\n",
        "example_input_1 = '''what are major energy stocks in India'''\n",
        "\n",
        "example_output_1 = '''Here are the top 10 energy stocks in India:\n",
        "\n",
        "Reliance Industries Limited (RIL)\n",
        "Oil and Natural Gas Corporation Limited (ONGC)\n",
        "Hindustan Petroleum Corporation Limited (HPCL)\n",
        "Bharat Petroleum Corporation Limited (BPCL)\n",
        "Indian Oil Corporation Limited (IOCL)\n",
        "GAIL (India) Limited\n",
        "NTPC Limited\n",
        "Power Grid Corporation of India Limited (PGCIL)\n",
        "Tata Power Company Limited\n",
        "Adani Power Limited\n",
        "RIL is the largest private sector company in India and is also the largest energy company in the country. It is involved in a wide range of businesses, including oil and gas exploration and production, refining and marketing, petrochemicals, and retail.\n",
        "\n",
        "ONGC is the largest state-owned oil and gas company in India. It is involved in all aspects of the oil and gas value chain, from exploration and production to refining and marketing.\n",
        "\n",
        "HPCL is a state-owned oil and gas company that is involved in refining, marketing, and distribution of petroleum products.\n",
        "\n",
        "BPCL is a state-owned oil and gas company that is involved in refining, marketing, and distribution of petroleum products.'''\n",
        "\n",
        "user_input = '''What is 2023 Revenue change of RIL?'''"
      ],
      "metadata": {
        "id": "e_vOuSm1Upye"
      },
      "execution_count": 4,
      "outputs": []
    },
    {
      "cell_type": "markdown",
      "source": [
        "### Tuning Parameters"
      ],
      "metadata": {
        "id": "VHoJ3_RVV1Ap"
      }
    },
    {
      "cell_type": "code",
      "source": [
        "model_name = \"chat-bison@001\"\n",
        "parameters = {\n",
        "  \"temperature\": 0.2,\n",
        "  \"max_output_tokens\": 1024,\n",
        "  \"top_p\": 0.8,\n",
        "  \"top_k\": 40,\n",
        "}"
      ],
      "metadata": {
        "id": "_ArOpLiPTEfb"
      },
      "execution_count": 5,
      "outputs": []
    },
    {
      "cell_type": "markdown",
      "source": [
        "### Call Google's Chat API "
      ],
      "metadata": {
        "id": "F5uAsuJOWMQB"
      }
    },
    {
      "cell_type": "code",
      "source": [
        "chat_model = ChatModel.from_pretrained(model_name)\n",
        "chat = chat_model.start_chat(context=context_1,\n",
        "  examples=[\n",
        "    InputOutputTextPair(\n",
        "      input_text=example_input_1,\n",
        "      output_text=example_output_1\n",
        "    )\n",
        "  ]\n",
        ")\n",
        "response=chat.send_message(user_input,**parameters)\n",
        "print(response.text)"
      ],
      "metadata": {
        "colab": {
          "base_uri": "https://localhost:8080/"
        },
        "id": "jpAU7-vtQXa4",
        "outputId": "14ff3d57-10f7-4393-8bf0-58818e14c8c4"
      },
      "execution_count": 6,
      "outputs": [
        {
          "output_type": "stream",
          "name": "stdout",
          "text": [
            "Reliance Industries Limited (RIL) reported a 23.5% year-on-year increase in revenue to ₹976,524 crore (US$120 billion) for the financial year ended March 31, 2023. The company's operating profit increased by 24.1% to ₹94,844 crore (US$12 billion), while its net profit increased by 24.4% to ₹74,131 crore (US$9.3 billion).\n",
            "\n",
            "The increase in revenue was driven by strong growth in the company's refining and petrochemicals businesses. The company's refining business benefited from higher crude oil prices and strong demand for refined products. The company's petrochemicals business benefited from higher prices for petrochemical products and strong demand from the global market.\n",
            "\n",
            "The increase in operating profit was driven by strong growth in the company's refining and petrochemicals businesses. The company's refining business benefited from higher crude oil prices and strong demand for refined products. The company's petrochemicals business benefited from higher prices for petrochemical products and strong demand from the global market.\n",
            "\n",
            "The increase in net profit was driven by strong growth in the company's refining and petrochemicals businesses. The company's refining business benefited from higher crude oil prices and strong demand for refined products. The company's petrochemicals business benefited from higher prices for petrochemical products and strong demand from the global market.\n",
            "\n",
            "RIL is the largest private sector company in India and is also the largest energy company in the country. It is involved in a wide range of businesses, including oil and gas exploration and production, refining and marketing, petrochemicals, and retail.\n"
          ]
        }
      ]
    }
  ]
}