{
  "nbformat": 4,
  "nbformat_minor": 0,
  "metadata": {
    "colab": {
      "provenance": [],
      "authorship_tag": "ABX9TyPtiW73bmhl8Y3NmWwgkeBz",
      "include_colab_link": true
    },
    "kernelspec": {
      "name": "python3",
      "display_name": "Python 3"
    },
    "language_info": {
      "name": "python"
    }
  },
  "cells": [
    {
      "cell_type": "markdown",
      "metadata": {
        "id": "view-in-github",
        "colab_type": "text"
      },
      "source": [
        "<a href=\"https://colab.research.google.com/github/ashishawasthi/colab/blob/master/Search_term_from_series_of_questions.ipynb\" target=\"_parent\"><img src=\"https://colab.research.google.com/assets/colab-badge.svg\" alt=\"Open In Colab\"/></a>"
      ]
    },
    {
      "cell_type": "code",
      "execution_count": null,
      "metadata": {
        "id": "J2XSaUH3jIhN"
      },
      "outputs": [],
      "source": [
        "!pip install -q openai"
      ]
    },
    {
      "cell_type": "code",
      "source": [
        "import os\n",
        "import openai"
      ],
      "metadata": {
        "id": "ZbhoWATzjJHL"
      },
      "execution_count": 13,
      "outputs": []
    },
    {
      "cell_type": "code",
      "source": [
        "# Set your API key in code using 'openai.api_key = <API-KEY>'\n",
        "# Or else, set the environment variable OPENAI_API_KEY=<API-KEY>\n",
        "# If API key is stored in a file, point the openai module at it with 'openai.api_key_path = <PATH>'\n",
        "openai.api_key = \"\""
      ],
      "metadata": {
        "id": "orh9WMtEjJEC"
      },
      "execution_count": 14,
      "outputs": []
    },
    {
      "cell_type": "code",
      "source": [
        "prompt = '''Search query for the last question of following question answer sequence:\n",
        "\n",
        "Question: What are the top India energy stocks?\n",
        "\n",
        "Answer: Reliance Industries Limited (RIL)\n",
        "Oil and Natural Gas Corporation Limited (ONGC)\n",
        "Hindustan Petroleum Corporation Limited (HPCL)\n",
        "Bharat Petroleum Corporation Limited (BPCL)\n",
        "Indian Oil Corporation Limited (IOCL)\n",
        "\n",
        "Question: What is revenue of first one?\n",
        "\n",
        "Search query:'''"
      ],
      "metadata": {
        "id": "kpTEE6BpjXh-"
      },
      "execution_count": 15,
      "outputs": []
    },
    {
      "cell_type": "code",
      "source": [
        "response = openai.Completion.create(\n",
        "  model=\"text-davinci-003\",\n",
        "  prompt=prompt,\n",
        "  max_tokens=1024\n",
        ")"
      ],
      "metadata": {
        "id": "Y1pGIwNejJBN"
      },
      "execution_count": 16,
      "outputs": []
    },
    {
      "cell_type": "code",
      "source": [
        "print(response.choices[0].text)"
      ],
      "metadata": {
        "colab": {
          "base_uri": "https://localhost:8080/"
        },
        "id": "eMQAIfGdlKws",
        "outputId": "c13e8718-8f81-4884-8631-ec8dca042090"
      },
      "execution_count": 20,
      "outputs": [
        {
          "output_type": "stream",
          "name": "stdout",
          "text": [
            " \"Revenue of Reliance Industries Limited (RIL).\"\n"
          ]
        }
      ]
    },
    {
      "cell_type": "code",
      "source": [
        "print(response)"
      ],
      "metadata": {
        "colab": {
          "base_uri": "https://localhost:8080/"
        },
        "id": "feY-E3AwlCAi",
        "outputId": "6782037a-eae6-4363-d047-47005bdc61f9"
      },
      "execution_count": 19,
      "outputs": [
        {
          "output_type": "stream",
          "name": "stdout",
          "text": [
            "{\n",
            "  \"choices\": [\n",
            "    {\n",
            "      \"finish_reason\": \"stop\",\n",
            "      \"index\": 0,\n",
            "      \"logprobs\": null,\n",
            "      \"text\": \" \\\"Revenue of Reliance Industries Limited (RIL).\\\"\"\n",
            "    }\n",
            "  ],\n",
            "  \"created\": 1685180221,\n",
            "  \"id\": \"cmpl-7Kke5doyZqRBlAJKGNhhPud1KMLP4\",\n",
            "  \"model\": \"text-davinci-003\",\n",
            "  \"object\": \"text_completion\",\n",
            "  \"usage\": {\n",
            "    \"completion_tokens\": 12,\n",
            "    \"prompt_tokens\": 95,\n",
            "    \"total_tokens\": 107\n",
            "  }\n",
            "}\n"
          ]
        }
      ]
    }
  ]
}